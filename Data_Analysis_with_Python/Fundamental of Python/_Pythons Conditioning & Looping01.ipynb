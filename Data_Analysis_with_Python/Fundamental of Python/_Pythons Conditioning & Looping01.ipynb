{
 "cells": [
  {
   "cell_type": "code",
   "execution_count": 1,
   "id": "bb3a0f8f",
   "metadata": {},
   "outputs": [
    {
     "name": "stdout",
     "output_type": "stream",
     "text": [
      "x habis dibagi dua\n",
      "x habis dibagi dua\n"
     ]
    }
   ],
   "source": [
    "# if Statement\n",
    "x = 4\n",
    "if x % 2 == 0: # if you divide x by 2 then the remainder equals to 0\n",
    "    print(\"x habis dibagi dua\") # statemen aksi lebih menjorok ke dalam\n",
    "    \n",
    "# Statement if ... elif ... else\n",
    "x = 2\n",
    "if x % 2 == 0: # if you divide x by 2 then the remainder will be 0\n",
    "    print(\"x habis dibagi dua\")\n",
    "elif x % 3 == 0: # if you divide x by 3 then the remainder will be 0\n",
    "    print(\"x habis dibagi tiga\")\n",
    "elif x % 5 == 0: #  if you divide x by 5 then the remainder will be 0\n",
    "    print(\"x habis dibagi lima\")\n",
    "else:\n",
    "    print(\"x tidak habis dibagi dua, tiga ataupun lima\")"
   ]
  },
  {
   "cell_type": "code",
   "execution_count": 4,
   "id": "35c63b3a",
   "metadata": {},
   "outputs": [
    {
     "name": "stdout",
     "output_type": "stream",
     "text": [
      "x is even number\n",
      "x is divisible by two, x is even number!\n"
     ]
    }
   ],
   "source": [
    "# if Statement\n",
    "x = 4\n",
    "if x % 2 == 0: # if you divide x by 2 then the remainder equals to 0\n",
    "    print(\"x is even number\") # statemen aksi lebih menjorok ke dalam\n",
    "    \n",
    "# Statement if ... elif ... else\n",
    "x = 106\n",
    "if x % 2 == 0: # if you divide x by 2 then the remainder will be 0\n",
    "    print(\"x is divisible by two, x is even number!\")\n",
    "elif x % 3 == 0: # if you divide x by 3 then the remainder will be 0\n",
    "    print(\"x is divisible by three\")\n",
    "elif x % 5 == 0: #  if you divide x by 5 then the remainder will be 0\n",
    "    print(\"x is divisible by five\")\n",
    "else:\n",
    "    print(\"x is not divisible by two, three or five\")"
   ]
  },
  {
   "cell_type": "code",
   "execution_count": null,
   "id": "7989ad05",
   "metadata": {},
   "outputs": [],
   "source": []
  }
 ],
 "metadata": {
  "kernelspec": {
   "display_name": "Python 3",
   "language": "python",
   "name": "python3"
  },
  "language_info": {
   "codemirror_mode": {
    "name": "ipython",
    "version": 3
   },
   "file_extension": ".py",
   "mimetype": "text/x-python",
   "name": "python",
   "nbconvert_exporter": "python",
   "pygments_lexer": "ipython3",
   "version": "3.8.8"
  }
 },
 "nbformat": 4,
 "nbformat_minor": 5
}
